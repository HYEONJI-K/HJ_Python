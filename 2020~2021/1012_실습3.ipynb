{
  "nbformat": 4,
  "nbformat_minor": 0,
  "metadata": {
    "colab": {
      "name": "1012 실습3.ipynb",
      "provenance": [],
      "collapsed_sections": [],
      "mount_file_id": "1GUR-yMuykb-u89teRzUFs5-7KHdRCwyZ",
      "authorship_tag": "ABX9TyOZI8D8ZuWz39xJDctLlIIj",
      "include_colab_link": true
    },
    "kernelspec": {
      "name": "python3",
      "display_name": "Python 3"
    }
  },
  "cells": [
    {
      "cell_type": "markdown",
      "metadata": {
        "id": "view-in-github",
        "colab_type": "text"
      },
      "source": [
        "<a href=\"https://colab.research.google.com/github/HYEONJI-K/H_gitTest/blob/master/1012_%EC%8B%A4%EC%8A%B53.ipynb\" target=\"_parent\"><img src=\"https://colab.research.google.com/assets/colab-badge.svg\" alt=\"Open In Colab\"/></a>"
      ]
    },
    {
      "cell_type": "code",
      "metadata": {
        "id": "FJnaL55d8Ny2",
        "outputId": "f535d28f-d681-4c9f-810c-95cbe72ba9d7",
        "colab": {
          "base_uri": "https://localhost:8080/",
          "height": 627
        }
      },
      "source": [
        "!sudo apt-get install -y fonts-nanum\n",
        "!sudo fc-cache -fv\n",
        "!rm ~/.cache/matplotlib -rf\n",
        "# 런타임을 다시 시작하세요."
      ],
      "execution_count": 1,
      "outputs": [
        {
          "output_type": "stream",
          "text": [
            "Reading package lists... Done\n",
            "Building dependency tree       \n",
            "Reading state information... Done\n",
            "The following NEW packages will be installed:\n",
            "  fonts-nanum\n",
            "0 upgraded, 1 newly installed, 0 to remove and 6 not upgraded.\n",
            "Need to get 9,604 kB of archives.\n",
            "After this operation, 29.5 MB of additional disk space will be used.\n",
            "Get:1 http://archive.ubuntu.com/ubuntu bionic/universe amd64 fonts-nanum all 20170925-1 [9,604 kB]\n",
            "Fetched 9,604 kB in 1s (8,259 kB/s)\n",
            "debconf: unable to initialize frontend: Dialog\n",
            "debconf: (No usable dialog-like program is installed, so the dialog based frontend cannot be used. at /usr/share/perl5/Debconf/FrontEnd/Dialog.pm line 76, <> line 1.)\n",
            "debconf: falling back to frontend: Readline\n",
            "debconf: unable to initialize frontend: Readline\n",
            "debconf: (This frontend requires a controlling tty.)\n",
            "debconf: falling back to frontend: Teletype\n",
            "dpkg-preconfigure: unable to re-open stdin: \n",
            "Selecting previously unselected package fonts-nanum.\n",
            "(Reading database ... 144617 files and directories currently installed.)\n",
            "Preparing to unpack .../fonts-nanum_20170925-1_all.deb ...\n",
            "Unpacking fonts-nanum (20170925-1) ...\n",
            "Setting up fonts-nanum (20170925-1) ...\n",
            "Processing triggers for fontconfig (2.12.6-0ubuntu2) ...\n",
            "/usr/share/fonts: caching, new cache contents: 0 fonts, 1 dirs\n",
            "/usr/share/fonts/truetype: caching, new cache contents: 0 fonts, 3 dirs\n",
            "/usr/share/fonts/truetype/humor-sans: caching, new cache contents: 1 fonts, 0 dirs\n",
            "/usr/share/fonts/truetype/liberation: caching, new cache contents: 16 fonts, 0 dirs\n",
            "/usr/share/fonts/truetype/nanum: caching, new cache contents: 10 fonts, 0 dirs\n",
            "/usr/local/share/fonts: caching, new cache contents: 0 fonts, 0 dirs\n",
            "/root/.local/share/fonts: skipping, no such directory\n",
            "/root/.fonts: skipping, no such directory\n",
            "/var/cache/fontconfig: cleaning cache directory\n",
            "/root/.cache/fontconfig: not cleaning non-existent cache directory\n",
            "/root/.fontconfig: not cleaning non-existent cache directory\n",
            "fc-cache: succeeded\n"
          ],
          "name": "stdout"
        }
      ]
    },
    {
      "cell_type": "code",
      "metadata": {
        "id": "bCu3OqwY8QLD",
        "outputId": "d758156b-43be-466d-bc02-58b2ff9c2962",
        "colab": {
          "base_uri": "https://localhost:8080/",
          "height": 331
        }
      },
      "source": [
        "import matplotlib.pyplot as plt\n",
        "import csv\n",
        "\n",
        "f = open('/content/drive/My Drive/Colab Notebooks/gender_202007.csv', 'r', encoding = 'cp949')\n",
        "data = csv.reader(f)\n",
        "header = next(data)\n",
        "for sido in data:\n",
        "  print(sido[0])"
      ],
      "execution_count": 3,
      "outputs": [
        {
          "output_type": "stream",
          "text": [
            "전국  (0000000000)\n",
            "서울특별시  (1100000000)\n",
            "부산광역시  (2600000000)\n",
            "대구광역시  (2700000000)\n",
            "인천광역시  (2800000000)\n",
            "광주광역시  (2900000000)\n",
            "대전광역시  (3000000000)\n",
            "울산광역시  (3100000000)\n",
            "세종특별자치시  (3600000000)\n",
            "경기도  (4100000000)\n",
            "강원도  (4200000000)\n",
            "충청북도  (4300000000)\n",
            "충청남도  (4400000000)\n",
            "전라북도  (4500000000)\n",
            "전라남도  (4600000000)\n",
            "경상북도  (4700000000)\n",
            "경상남도  (4800000000)\n",
            "제주특별자치도  (5000000000)\n"
          ],
          "name": "stdout"
        }
      ]
    },
    {
      "cell_type": "markdown",
      "metadata": {
        "id": "eoOlItGh_fhn"
      },
      "source": [
        "f = open('/content/drive/My Drive/Colab Notebooks/gender_202007.csv', 'r', encoding = 'cp949')\n",
        "data = csv.reader(f)\n",
        "header = next(data)\n",
        "\n",
        "m=[]\n",
        "f=[]\n",
        "\n",
        "name=input('찾는 시도의 이름을 입력 : ')\n",
        "for row in data:\n",
        "  if name in row[0]:\n",
        "    for i in range(0,101):\n",
        "      m.append(-int(row[i+3].replace(',','')))\n",
        "      f.append(int(row[-(i+1)].replace(',','')))\n",
        "f.reverse()\n",
        "\n",
        "\n",
        "plt.figure(figsize=(10,5), dpi=300)\n",
        "plt.rc('font', family='NanumBarunGothic')\n",
        "plt.title(name+'의 남녀 성별 인구 분포(2020년 7월)')\n",
        "plt.barh(range(101), m, label='남성')\n",
        "plt.barh(range(101), f, label='여성')\n",
        "plt.legend()\n",
        "plt.show()"
      ]
    },
    {
      "cell_type": "code",
      "metadata": {
        "id": "yGmoW8UD8X3i",
        "outputId": "e1afa50c-3f21-48c2-8d29-10cad3fddf86",
        "colab": {
          "base_uri": "https://localhost:8080/",
          "height": 298
        }
      },
      "source": [
        "f = open('/content/drive/My Drive/Colab Notebooks/gender_202007.csv', 'r', encoding = 'cp949')\n",
        "data = csv.reader(f)\n",
        "header = next(data)\n",
        "\n",
        "size=[]\n",
        "name=input('찾는 시도의 이름을 입력 : ')\n",
        "for row in data:\n",
        "  if name in row[0]:\n",
        "    m = 0\n",
        "    f = 0\n",
        "    for i in range(101):\n",
        "      m += int(row[i+3].replace(',',''))\n",
        "      f += int(row[i+106].replace(',',''))\n",
        "    break\n",
        "size.append(m)\n",
        "size.append(f)\n",
        "print(size)\n",
        "\n",
        "plt.rc('font', family='NanumBarunGothic')\n",
        "color = ['deeppink', 'darkslategrey']\n",
        "\n",
        "plt.axis('equal')\n",
        "plt.pie(size, labels=['남','여'], autopct='%.1f%%', colors=color, startangle=90)\n",
        "plt.title(name+'의 남녀 성별 인구 분포(2020년 7월)')\n",
        "plt.show()"
      ],
      "execution_count": 12,
      "outputs": [
        {
          "output_type": "stream",
          "text": [
            "찾는 시도의 이름을 입력 : 강원도\n",
            "[774913, 765181]\n"
          ],
          "name": "stdout"
        },
        {
          "output_type": "display_data",
          "data": {
            "image/png": "[encoded data removed]",
            "text/plain": [
              "<Figure size 432x288 with 1 Axes>"
            ]
          },
          "metadata": {
            "tags": []
          }
        }
      ]
    },
    {
      "cell_type": "code",
      "metadata": {
        "id": "7DZZCxSc80BF"
      },
      "source": [
        ""
      ],
      "execution_count": null,
      "outputs": []
    }
  ]
}